{
 "cells": [
  {
   "cell_type": "code",
   "execution_count": 1,
   "metadata": {},
   "outputs": [],
   "source": [
    "import pandas as pd\n",
    "import os\n",
    "import numpy as np\n",
    "from sklearn.linear_model import LinearRegression\n",
    "from sklearn import metrics"
   ]
  },
  {
   "cell_type": "markdown",
   "metadata": {},
   "source": [
    "# Replace the path of the csv data folder here"
   ]
  },
  {
   "cell_type": "code",
   "execution_count": 2,
   "metadata": {},
   "outputs": [],
   "source": [
    "myname = \"srijit sen\"\n",
    "lib_path = \"D:/MDS related Documents/Deep Learning/Assignment 1/\"\n",
    "os.chdir(lib_path)"
   ]
  },
  {
   "cell_type": "markdown",
   "metadata": {},
   "source": [
    "# Reading the file and setting up x and y and test cases"
   ]
  },
  {
   "cell_type": "code",
   "execution_count": 3,
   "metadata": {
    "scrolled": true
   },
   "outputs": [],
   "source": [
    "training_data=pd.read_csv('qn2_data.csv',names=('Fert','Insect','Corn'))\n",
    "y=training_data['Corn'].values\n",
    "x=training_data.drop('Corn', axis=1).values\n",
    "test_set = np.array([[6,4],[10,5],[14,8]])"
   ]
  },
  {
   "cell_type": "markdown",
   "metadata": {},
   "source": [
    "# Fitting Linear Regression model"
   ]
  },
  {
   "cell_type": "code",
   "execution_count": 4,
   "metadata": {},
   "outputs": [],
   "source": [
    "LR = LinearRegression()\n",
    "# fitting the training data\n",
    "reg=LR.fit(x,y)"
   ]
  },
  {
   "cell_type": "markdown",
   "metadata": {},
   "source": [
    "# Predicting Test case and providing weight coefficients, bias and training error"
   ]
  },
  {
   "cell_type": "code",
   "execution_count": 5,
   "metadata": {},
   "outputs": [
    {
     "name": "stdout",
     "output_type": "stream",
     "text": [
      "Predicted values [40.32044761 44.03051882 49.96032553]\n",
      "Coefficients:  [0.65005086 1.10986775]\n",
      "Bias:  31.98067141403867\n",
      "Loss:  1.0280773143438466\n"
     ]
    }
   ],
   "source": [
    "print('Predicted values',LR.predict(test_set))\n",
    "\n",
    "print('Coefficients: ',reg.coef_)\n",
    "print('Bias: ',reg.intercept_)\n",
    "print('Loss: ',metrics.mean_absolute_error(LR.predict(x),y))"
   ]
  },
  {
   "cell_type": "markdown",
   "metadata": {},
   "source": [
    "Comparing to result of Linear NN implemented in 3(b)\n",
    "\n",
    "\n",
    "Predicted values: [39.5984],        [43.2388],        [48.7342] <br>\n",
    "Coefficient:  [0.68 0.93]  <br>\n",
    "Bias: 31.82 <br>\n",
    "Loss: 0.793707 after 50001 batches"
   ]
  },
  {
   "cell_type": "code",
   "execution_count": null,
   "metadata": {},
   "outputs": [],
   "source": [
    "The predicted values for both models are pretty close <br>\n",
    "Even the bias is pretty same with a little less importance given to the second variable by neural network <br>\n",
    "Training loss (l1 smooth) for neural network is little less compared to OLS regression <br>\n",
    "No Parameter were required to submit for LR when compared to NN\n"
   ]
  }
 ],
 "metadata": {
  "kernelspec": {
   "display_name": "Python 3",
   "language": "python",
   "name": "python3"
  },
  "language_info": {
   "codemirror_mode": {
    "name": "ipython",
    "version": 3
   },
   "file_extension": ".py",
   "mimetype": "text/x-python",
   "name": "python",
   "nbconvert_exporter": "python",
   "pygments_lexer": "ipython3",
   "version": "3.6.4"
  }
 },
 "nbformat": 4,
 "nbformat_minor": 2
}
