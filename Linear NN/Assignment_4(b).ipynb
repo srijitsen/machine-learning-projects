{
 "cells": [
  {
   "cell_type": "code",
   "execution_count": 1,
   "metadata": {},
   "outputs": [],
   "source": [
    "from __future__ import print_function\n",
    "\n",
    "import torch\n",
    "import torch.nn as nn\n",
    "import torch.nn.functional as F\n",
    "import torch.optim as optim\n",
    "from torchvision import datasets, transforms\n",
    "from torch.autograd import Variable\n",
    "import matplotlib.pyplot as plt\n",
    "import os"
   ]
  },
  {
   "cell_type": "markdown",
   "metadata": {},
   "source": [
    "# Insert your folder path below"
   ]
  },
  {
   "cell_type": "code",
   "execution_count": 2,
   "metadata": {},
   "outputs": [],
   "source": [
    "myname = \"srijit sen\"\n",
    "lib_path = \"D:/MDS related Documents/Deep Learning/Assignment 1/\"\n",
    "os.chdir(lib_path)"
   ]
  },
  {
   "cell_type": "code",
   "execution_count": 3,
   "metadata": {},
   "outputs": [
    {
     "data": {
      "text/plain": [
       "<torch._C.Generator at 0x19a17205348>"
      ]
     },
     "execution_count": 3,
     "metadata": {},
     "output_type": "execute_result"
    }
   ],
   "source": [
    "# Training settings\n",
    "batch_size = 64\n",
    "test_batch_size = 1000\n",
    "epochs = 9\n",
    "lr = 0.01\n",
    "seed = 1\n",
    "log_interval = 10\n",
    "momentum = 0.9\n",
    "weight_decay = 0\n",
    "dampening = 0\n",
    "nesterov = False\n",
    "\n",
    "torch.manual_seed(seed)"
   ]
  },
  {
   "cell_type": "markdown",
   "metadata": {},
   "source": [
    "# Data Loading module-  divided among 938 batches in training and sets of 1000 size batches in test"
   ]
  },
  {
   "cell_type": "code",
   "execution_count": 4,
   "metadata": {},
   "outputs": [],
   "source": [
    "# Data loader\n",
    "train_loader = torch.utils.data.DataLoader(\n",
    "    datasets.MNIST(lib_path, train=True, download=True,\n",
    "                   transform=transforms.Compose([\n",
    "                       transforms.ToTensor(),\n",
    "                       transforms.Normalize((0.1307,), (0.3081,))\n",
    "                   ])),\n",
    "    batch_size=batch_size, shuffle=True)\n",
    "\n",
    "test_loader = torch.utils.data.DataLoader(\n",
    "    datasets.MNIST(lib_path, train=False, transform=transforms.Compose([\n",
    "                       transforms.ToTensor(),\n",
    "                       transforms.Normalize((0.1307,), (0.3081,))\n",
    "                   ])),\n",
    "    batch_size=test_batch_size, shuffle=True)"
   ]
  },
  {
   "cell_type": "markdown",
   "metadata": {},
   "source": [
    "# Constructor call to initialize model parameters with sgd optimizer"
   ]
  },
  {
   "cell_type": "code",
   "execution_count": 6,
   "metadata": {},
   "outputs": [],
   "source": [
    "# Model Initialization\n",
    "class Net(nn.Module):\n",
    "    def __init__(self):\n",
    "        super(Net, self).__init__()\n",
    "        self.conv1 = nn.Conv2d(1, 10, kernel_size=5)\n",
    "        self.conv2 = nn.Conv2d(10, 20, kernel_size=5)\n",
    "        self.conv2_drop = nn.Dropout2d()\n",
    "        self.fc1 = nn.Linear(320, 50)\n",
    "        self.fc2 = nn.Linear(50, 10)\n",
    "\n",
    "    def forward(self, x):\n",
    "        x = F.relu(F.max_pool2d(self.conv1(x), 2))\n",
    "        x = F.relu(F.max_pool2d(self.conv2_drop(self.conv2(x)), 2))\n",
    "        x = x.view(-1, 320)\n",
    "        x = F.relu(self.fc1(x))\n",
    "        x = F.dropout(x, training=self.training)\n",
    "        x = self.fc2(x)\n",
    "        return F.log_softmax(x)\n",
    "    \n",
    "model = Net()\n",
    "\n",
    "optimizer = optim.SGD(model.parameters(), lr = lr, momentum = momentum,weight_decay = weight_decay, dampening = dampening, nesterov = nesterov)"
   ]
  },
  {
   "cell_type": "markdown",
   "metadata": {},
   "source": [
    "# Per batch weight updation during training on average error across each batch"
   ]
  },
  {
   "cell_type": "code",
   "execution_count": 7,
   "metadata": {},
   "outputs": [],
   "source": [
    "# Training function \n",
    "def train(epoch):\n",
    "    model.train()\n",
    "    total_loss = 0\n",
    "    for batch_idx, (data, target) in enumerate(train_loader):\n",
    "        data, target = Variable(data), Variable(target)\n",
    "        optimizer.zero_grad()\n",
    "        output = model(data)\n",
    "        loss = F.nll_loss(output, target)\n",
    "        total_loss += loss.data\n",
    "        loss.backward()\n",
    "        optimizer.step()\n",
    "#        if batch_idx % log_interval == 0:\n",
    "#            print('Train Epoch: {} [{}/{} ({:.0f}%)]\\tLoss: {:.6f}'.format(\n",
    "#                epoch, batch_idx* len(data), len(train_loader.dataset),\n",
    "#                100. * batch_idx / len(train_loader), loss.data))\n",
    "    avg_loss = total_loss/(batch_idx+1)\n",
    "    print('Train loss for epoch:{0}: {1}'.format(epoch, avg_loss))\n",
    "    return avg_loss   "
   ]
  },
  {
   "cell_type": "markdown",
   "metadata": {},
   "source": [
    "# Predicting for each 1000 size batch and calculating accuracy of each batch"
   ]
  },
  {
   "cell_type": "code",
   "execution_count": 9,
   "metadata": {},
   "outputs": [],
   "source": [
    "# Test Function\n",
    "def test():\n",
    "    # TODO: Test the model on the test-set and report the loss and accuracy.\n",
    "    tp = 0\n",
    "    total = 0\n",
    "    total_loss = 0\n",
    "    \n",
    "    # Loop through the test loader in batches of 1000\n",
    "    for batch_idx, (test_data, test_target) in enumerate(test_loader):\n",
    "        data, target = Variable(test_data), test_target\n",
    "        #images, labels = Variable(images), Variable(labels)\n",
    "        output = model(data)\n",
    "        \n",
    "        # Calculate NLL loss\n",
    "        loss = F.nll_loss(output, Variable(target))\n",
    "\n",
    "        # Add it to the total loss\n",
    "        total_loss += loss.data\n",
    "        \n",
    "        # Calculate class predictions\n",
    "        not_needed,prediction = torch.max(output.data, 1)\n",
    "        batch_tp = (prediction == target).sum()\n",
    "        #print('Batch correct: {0}, Batch size: {1}'.format(batch_corr, labels.size(0)))\n",
    "        tp += batch_tp\n",
    "        total += target.size(0)\n",
    "\n",
    "    accuracy = 100*tp/total\n",
    "    print('Accuracy: {:.2f}'.format(accuracy))\n",
    "    avg_loss = total_loss/(batch_idx+1)\n",
    "    print('Avg Test loss: {0}'.format(avg_loss))\n",
    "    return avg_loss"
   ]
  },
  {
   "cell_type": "code",
   "execution_count": 10,
   "metadata": {},
   "outputs": [
    {
     "name": "stderr",
     "output_type": "stream",
     "text": [
      "C:\\Users\\300063669\\AppData\\Local\\Continuum\\anaconda3\\lib\\site-packages\\ipykernel_launcher.py:18: UserWarning: Implicit dimension choice for log_softmax has been deprecated. Change the call to include dim=X as an argument.\n"
     ]
    },
    {
     "name": "stdout",
     "output_type": "stream",
     "text": [
      "Train loss for epoch:1: 0.2545298933982849\n",
      "Accuracy: 93.66\n",
      "Avg Test loss: 0.21251308917999268\n",
      "Train loss for epoch:2: 0.2117731273174286\n",
      "Accuracy: 94.36\n",
      "Avg Test loss: 0.19125160574913025\n",
      "Train loss for epoch:3: 0.19215622544288635\n",
      "Accuracy: 94.66\n",
      "Avg Test loss: 0.18821600079536438\n",
      "Train loss for epoch:4: 0.17799566686153412\n",
      "Accuracy: 94.92\n",
      "Avg Test loss: 0.16785922646522522\n",
      "Train loss for epoch:5: 0.16866758465766907\n",
      "Accuracy: 95.49\n",
      "Avg Test loss: 0.15145298838615417\n",
      "Train loss for epoch:6: 0.1590522676706314\n",
      "Accuracy: 95.44\n",
      "Avg Test loss: 0.15801195800304413\n",
      "Train loss for epoch:7: 0.15577168762683868\n",
      "Accuracy: 95.59\n",
      "Avg Test loss: 0.15191134810447693\n",
      "Train loss for epoch:8: 0.1518726497888565\n",
      "Accuracy: 95.71\n",
      "Avg Test loss: 0.14560788869857788\n",
      "Train loss for epoch:9: 0.14677740633487701\n",
      "Accuracy: 95.50\n",
      "Avg Test loss: 0.14424248039722443\n",
      "Train loss for epoch:10: 0.14362488687038422\n",
      "Accuracy: 95.65\n",
      "Avg Test loss: 0.1479584276676178\n"
     ]
    }
   ],
   "source": [
    "# Main Function\n",
    "train_loss = []\n",
    "test_loss = []\n",
    "\n",
    "for epoch in range(1, epochs + 1):\n",
    "    train_loss.append(train(epoch))\n",
    "    test_loss.append(test())"
   ]
  },
  {
   "cell_type": "code",
   "execution_count": 11,
   "metadata": {},
   "outputs": [
    {
     "data": {
      "text/plain": [
       "Text(0.5,1,'Plot of train and test loss on every epoch')"
      ]
     },
     "execution_count": 11,
     "metadata": {},
     "output_type": "execute_result"
    },
    {
     "data": {
      "image/png": "[encoded data removed]",
      "text/plain": [
       "<Figure size 432x288 with 1 Axes>"
      ]
     },
     "metadata": {},
     "output_type": "display_data"
    }
   ],
   "source": [
    "### Error Plot\n",
    "plt.figure()\n",
    "plt.plot(range(1, epochs+1), train_loss, '-o', label = \"Training loss\" )\n",
    "plt.plot(range(1, epochs+1), test_loss, '-*', label = \"Test loss\")\n",
    "plt.legend()\n",
    "plt.title('Plot of train and test loss on every epoch')"
   ]
  },
  {
   "cell_type": "markdown",
   "metadata": {},
   "source": [
    "# Parameters: batch_size = 64, lr = 0.01, momentum = 0.9, decay = 0 was chosen as it gave the lowest test error and training error\n",
    "=>train error: 4.0500030517578125, test error: 3.720001220703125\n",
    "\n",
    "# Other parameters that gave close to best result\n",
    "parameters: batch_size = 128, lr = 0.1, momentum = 0, decay = 0\n",
    "=>train error: 4.283332824707031, test error: 4.099998474121094 \n",
    "\n",
    "parameters: batch_size = 32, lr = 0.05, momentum = 0, decay = 0\n",
    "=>train error: 4.4116668701171875, test error: 4.1399993896484375 \n",
    "\n",
    "parameters: batch_size = 64, lr = 0.05, momentum = 0, decay = 0\n",
    "=>train error: 4.5366668701171875, test error: 4.4199981689453125 \n",
    "\n",
    "parameters: batch_size = 64, lr = 0.1, momentum = 0, decay = 0\n",
    "=>train error: 4.378334045410156, test error: 4.120002746582031\n",
    "\n",
    "\n",
    "\n"
   ]
  },
  {
   "cell_type": "code",
   "execution_count": null,
   "metadata": {},
   "outputs": [],
   "source": []
  }
 ],
 "metadata": {
  "kernelspec": {
   "display_name": "Python 3",
   "language": "python",
   "name": "python3"
  },
  "language_info": {
   "codemirror_mode": {
    "name": "ipython",
    "version": 3
   },
   "file_extension": ".py",
   "mimetype": "text/x-python",
   "name": "python",
   "nbconvert_exporter": "python",
   "pygments_lexer": "ipython3",
   "version": "3.6.4"
  }
 },
 "nbformat": 4,
 "nbformat_minor": 2
}
