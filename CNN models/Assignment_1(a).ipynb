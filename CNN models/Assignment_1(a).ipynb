{
 "cells": [
  {
   "cell_type": "code",
   "execution_count": 1,
   "metadata": {},
   "outputs": [],
   "source": [
    "#!/usr/bin/env python\n",
    "from __future__ import print_function\n",
    "import torch\n",
    "import torch.nn.functional as F\n",
    "import numpy as np\n",
    "import matplotlib.pyplot as plt\n",
    "import random\n"
   ]
  },
  {
   "cell_type": "markdown",
   "metadata": {},
   "source": [
    "# Hyperparameters for our network"
   ]
  },
  {
   "cell_type": "code",
   "execution_count": 2,
   "metadata": {},
   "outputs": [],
   "source": [
    "input_size = 1\n",
    "hidden_sizes = 50\n",
    "output_size = 1\n",
    "lr=0.01\n",
    "batch_size=100\n",
    "total_samples=10000\n",
    "epochs=2000"
   ]
  },
  {
   "cell_type": "markdown",
   "metadata": {},
   "source": [
    "# Data Setup ( function chosen x^2)"
   ]
  },
  {
   "cell_type": "code",
   "execution_count": 3,
   "metadata": {},
   "outputs": [],
   "source": [
    "### target function activation ###    \n",
    "def square_activation(x):\n",
    "    return pow(x,2)\n",
    "\n",
    "############# Our target function and x values #########\n",
    "x_values = np.linspace(0,10,total_samples)\n",
    "y = [square_activation(x) for x in x_values]\n",
    "\n",
    "#### getting batches #####\n",
    "def get_batch(batch_size=32,x_values=x_values,y=y):\n",
    "    \"\"\"Builds a batch i.e. (x, f(x)) pair.\"\"\"\n",
    "    sampled_index=random.sample(list(enumerate(x_values)), batch_size)\n",
    "    x_ran=[x_values[idx] for idx,val in sampled_index]\n",
    "    y_ran=[y[idx] for idx,val in sampled_index]\n",
    "    x_ran=torch.FloatTensor(x_ran)\n",
    "    y_ran=torch.FloatTensor(y_ran)\n",
    "    return x_ran.reshape(x_ran.shape[0],1), y_ran.reshape(y_ran.shape[0],1)"
   ]
  },
  {
   "cell_type": "markdown",
   "metadata": {},
   "source": [
    "# Define model"
   ]
  },
  {
   "cell_type": "code",
   "execution_count": 4,
   "metadata": {},
   "outputs": [],
   "source": [
    "model = torch.nn.Sequential(torch.nn.Linear(input_size, hidden_sizes),\n",
    "                      torch.nn.ReLU(),\n",
    "                      torch.nn.Linear(hidden_sizes, output_size))\n",
    "\n",
    "optimizer = torch.optim.SGD(model.parameters(), lr=lr)"
   ]
  },
  {
   "cell_type": "markdown",
   "metadata": {},
   "source": [
    "# Model Run"
   ]
  },
  {
   "cell_type": "code",
   "execution_count": 5,
   "metadata": {},
   "outputs": [
    {
     "name": "stdout",
     "output_type": "stream",
     "text": [
      "Loss: 1.288260 after 1999 batches\n"
     ]
    }
   ],
   "source": [
    "for batch_idx in range(epochs): #infinite loop\n",
    "    batch_x, batch_y = get_batch(batch_size,x_values,y)\n",
    "    \n",
    "    # Reset gradients to zero for each batch before starting calculation for gradient\n",
    "    optimizer.zero_grad()\n",
    "\n",
    "    # Forward pass\n",
    "    output = F.smooth_l1_loss(model(batch_x), batch_y) #calculating error- Function that uses a squared term if the absolute element-wise error falls below beta and an L1 term otherwise.\n",
    "    loss = output.item()\n",
    "\n",
    "    # Backward pass\n",
    "    output.backward()\n",
    "\n",
    "    # Apply gradients\n",
    "    optimizer.step()\n",
    "\n",
    "print('Loss: {:.6f} after {} batches'.format(loss, batch_idx))"
   ]
  },
  {
   "cell_type": "markdown",
   "metadata": {},
   "source": [
    "# prediction and plot against original"
   ]
  },
  {
   "cell_type": "code",
   "execution_count": 6,
   "metadata": {},
   "outputs": [
    {
     "data": {
      "text/plain": [
       "[<matplotlib.lines.Line2D at 0x216e3880320>]"
      ]
     },
     "execution_count": 6,
     "metadata": {},
     "output_type": "execute_result"
    },
    {
     "data": {
      "image/png": "[encoded data removed]",
      "text/plain": [
       "<Figure size 432x288 with 1 Axes>"
      ]
     },
     "metadata": {},
     "output_type": "display_data"
    }
   ],
   "source": [
    "###### prediction #####\n",
    "x_pred=torch.FloatTensor(x_values)\n",
    "x_pred=x_pred.reshape(x_pred.shape[0],1)\n",
    "y_pred=model(x_pred).detach().numpy()\n",
    "\n",
    "### Error Plot\n",
    "plt.figure()\n",
    "plt.plot(x_values, y, 'o', color='black')\n",
    "plt.plot(x_values, y_pred, 'o', color='blue')"
   ]
  },
  {
   "cell_type": "code",
   "execution_count": null,
   "metadata": {},
   "outputs": [],
   "source": []
  }
 ],
 "metadata": {
  "kernelspec": {
   "display_name": "Python 3",
   "language": "python",
   "name": "python3"
  },
  "language_info": {
   "codemirror_mode": {
    "name": "ipython",
    "version": 3
   },
   "file_extension": ".py",
   "mimetype": "text/x-python",
   "name": "python",
   "nbconvert_exporter": "python",
   "pygments_lexer": "ipython3",
   "version": "3.6.4"
  }
 },
 "nbformat": 4,
 "nbformat_minor": 2
}
